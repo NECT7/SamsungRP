{
  "nbformat": 4,
  "nbformat_minor": 0,
  "metadata": {
    "colab": {
      "provenance": []
    },
    "kernelspec": {
      "name": "python3",
      "display_name": "Python 3"
    },
    "language_info": {
      "name": "python"
    }
  },
  "cells": [
    {
      "cell_type": "markdown",
      "source": [
        "Ejercicio 1.  \n",
        "Cambio de monedas"
      ],
      "metadata": {
        "id": "falnV4MiO3nk"
      }
    },
    {
      "cell_type": "code",
      "execution_count": 2,
      "metadata": {
        "colab": {
          "base_uri": "https://localhost:8080/"
        },
        "id": "H8Ae6XFiNgkd",
        "outputId": "49873bb4-6619-4f8d-d74f-a533bbec89a4"
      },
      "outputs": [
        {
          "output_type": "stream",
          "name": "stdout",
          "text": [
            "Distribución de monedas: [(500, 1), (100, 1), (50, 2), (10, 1)] 4\n"
          ]
        }
      ],
      "source": [
        "def cambio_moneda2(monedas, cant):\n",
        "    cambios = []\n",
        "    for valor, cantidad_disponible in monedas:\n",
        "        if cant == 0:\n",
        "            break\n",
        "        max_monedas = min(cant // valor, cantidad_disponible)\n",
        "        if max_monedas > 0:\n",
        "            cambios.append((valor, max_monedas))\n",
        "            cant -= valor * max_monedas\n",
        "    if cant > 0:\n",
        "        print(\"No es posible completar el cambio con las monedas disponibles.\")\n",
        "    return cambios\n",
        "# Datos de ejemplo\n",
        "monedas = [(500, 1), (100, 1), (50, 3), (20, 2), (10, 10)]  # (valor, cantidad_disponible)\n",
        "cant = 710\n",
        "resultado = cambio_moneda2(monedas, cant)\n",
        "print(\"Distribución de monedas:\", resultado, len(resultado))"
      ]
    },
    {
      "cell_type": "markdown",
      "source": [
        "Ejercicio 2:  \n",
        "Suma máxima en una submatriz"
      ],
      "metadata": {
        "id": "7poyEWD8PQXZ"
      }
    },
    {
      "cell_type": "code",
      "source": [
        "def maximum_subarray(arr):\n",
        "    max_sum = arr[0]\n",
        "    current_sum = arr[0]\n",
        "    start = end = temp_start = 0\n",
        "    for i in range(1, len(arr)):\n",
        "        if arr[i] > current_sum + arr[i]:\n",
        "            current_sum = arr[i]\n",
        "            temp_start = i\n",
        "        else:\n",
        "            current_sum += arr[i]\n",
        "\n",
        "        if current_sum > max_sum:\n",
        "            max_sum = current_sum\n",
        "            start = temp_start\n",
        "            end = i\n",
        "    return max_sum, arr[start:end+1]\n",
        "# Datos de ejemplo\n",
        "S = [-2, 1, -2, 4, -1, 2, 1, -5, 4]\n",
        "resultado = maximum_subarray(S)\n",
        "print(\"Suma máxima:\", resultado[0])\n",
        "print(\"Submatriz:\", resultado[1])"
      ],
      "metadata": {
        "colab": {
          "base_uri": "https://localhost:8080/"
        },
        "id": "hYcO4HgwPQ0e",
        "outputId": "08b177cd-bd1c-427a-a2fd-fb05439b591c"
      },
      "execution_count": 3,
      "outputs": [
        {
          "output_type": "stream",
          "name": "stdout",
          "text": [
            "Suma máxima: 6\n",
            "Submatriz: [4, -1, 2, 1]\n"
          ]
        }
      ]
    },
    {
      "cell_type": "markdown",
      "source": [
        "Ejercicio 3:  \n",
        "Backtracking - Solución de laberinto"
      ],
      "metadata": {
        "id": "UGTVUUkcPu1K"
      }
    },
    {
      "cell_type": "code",
      "source": [
        "def is_safe(maze, x, y, visited):\n",
        "    return 0 <= x < len(maze) and 0 <= y < len(maze[0]) and maze[x][y] == 0 and not visited[x][y]\n",
        "def solve_maze(maze):\n",
        "    def backtrack(x, y, path):\n",
        "        if (x, y) == (len(maze) - 1, len(maze[0]) - 1):  # Llegamos al destino\n",
        "            solutions.append(path[:])\n",
        "            return\n",
        "        visited[x][y] = True\n",
        "        for dx, dy in [(0, 1), (1, 0), (0, -1), (-1, 0)]:  # Movimientos posibles\n",
        "            nx, ny = x + dx, y + dy\n",
        "            if is_safe(maze, nx, ny, visited):\n",
        "                path.append((nx, ny))\n",
        "                backtrack(nx, ny, path)\n",
        "                path.pop()\n",
        "        visited[x][y] = False\n",
        "    visited = [[False for _ in range(len(maze[0]))] for _ in range(len(maze))]\n",
        "    solutions = []\n",
        "    backtrack(0, 0, [(0, 0)])\n",
        "    return solutions\n",
        "# Laberinto de ejemplo\n",
        "maze = [\n",
        "    [0, 0, 0, 0],\n",
        "    [1, 0, 1, 0],\n",
        "    [1, 0, 1, 1],\n",
        "    [0, 0, 0, 0]\n",
        "]\n",
        "resultado = solve_maze(maze)\n",
        "print(\"Caminos posibles:\", resultado)"
      ],
      "metadata": {
        "colab": {
          "base_uri": "https://localhost:8080/"
        },
        "id": "tzZWb7wdPvND",
        "outputId": "3ece772e-70e2-4e6c-b836-f24965d9e99b"
      },
      "execution_count": 5,
      "outputs": [
        {
          "output_type": "stream",
          "name": "stdout",
          "text": [
            "Caminos posibles: [[(0, 0), (0, 1), (1, 1), (2, 1), (3, 1), (3, 2), (3, 3)]]\n"
          ]
        }
      ]
    }
  ]
}